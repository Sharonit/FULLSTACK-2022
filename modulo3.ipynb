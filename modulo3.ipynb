{
 "cells": [
  {
   "cell_type": "markdown",
   "metadata": {},
   "source": [
    "Advertencia sobre un aseroide acercándose demasiado rápido a la tierra"
   ]
  },
  {
   "cell_type": "code",
   "execution_count": 1,
   "metadata": {},
   "outputs": [
    {
     "name": "stdout",
     "output_type": "stream",
     "text": [
      "ADVERTENCIA: un asteroide se acerca a la tierra con una velocidad de  49 km/s\n"
     ]
    }
   ],
   "source": [
    "#cualquier velocidad de más de 25 kms/s merece una advertencia\n",
    "direccionTierra = True\n",
    "velocidad = 49 #km/s\n",
    "if direccionTierra==True and velocidad > 25:\n",
    "    print(\"ADVERTENCIA: un asteroide se acerca a la tierra con una velocidad de \", velocidad, \"km/s\")\n",
    "else: \n",
    "    print(\"sigue con tu día\")\n"
   ]
  },
  {
   "cell_type": "markdown",
   "metadata": {},
   "source": [
    "Halo de luz por asteroide"
   ]
  },
  {
   "cell_type": "code",
   "execution_count": 2,
   "metadata": {},
   "outputs": [
    {
     "name": "stdout",
     "output_type": "stream",
     "text": [
      "Un asteroide ha entrado en la atmosfera, pero no es visible\n"
     ]
    }
   ],
   "source": [
    "#un asteriode en la atmosfera terrestre a una velocidad mayor o igual a 20km/s deja un rastro de luz\n",
    "velocidad = 19 #km/s\n",
    "atmosfera = True\n",
    "if velocidad >= 20 and atmosfera == True:\n",
    "    print(\"Un asteroide ha entrado en la atmosfera, búscalo en el cielo\")\n",
    "elif velocidad < 20 and atmosfera == True:\n",
    "    print(\"Un asteroide ha entrado en la atmosfera, pero no es visible\")\n",
    "else:\n",
    "    print(\"No hay asteroides en nuestra atmosfera por el momento\")\n"
   ]
  },
  {
   "cell_type": "markdown",
   "metadata": {},
   "source": [
    "Mensaje según velocidad y tamaño"
   ]
  },
  {
   "cell_type": "code",
   "execution_count": 8,
   "metadata": {},
   "outputs": [
    {
     "name": "stdout",
     "output_type": "stream",
     "text": [
      "Moriremos todos, un asteroide con dimensiones superiores a 1000 kms se dirige a la tierra\n"
     ]
    }
   ],
   "source": [
    "#un asteroide de dimensión x; con 25 > x > 1000 que golpea a la tierra causaría muchos daños.\n",
    "#un asteriode en la atmosfera terrestre a una velocidad mayor o igual a 20km/s deja un rastro de luz\n",
    "#cualquier velocidad de más de 25 kms/s merece una advertencia\n",
    "velocidad = 25 #km/s\n",
    "dimension = 1500\n",
    "if dimension > 25 and dimension < 1000:\n",
    "    if velocidad > 25:\n",
    "        print(\"ADVERTENCIA: un asteroide muy peligroso se acerca a la tierra\")\n",
    "    else:\n",
    "        print(\"continúa con tu día\")\n",
    "elif dimension < 25:\n",
    "    if velocidad >= 20:\n",
    "        print(\"Un asteroide ha entrado en la atmosfera, búscalo en el cielo\")\n",
    "    else :\n",
    "        print(\"Continua con tu día\")\n",
    "else:\n",
    "    print(\"Moriremos todos, un asteroide con dimensiones superiores a 1000 kms se dirige a la tierra\")\n"
   ]
  }
 ],
 "metadata": {
  "interpreter": {
   "hash": "43a265a97f9b8d1a70f2d84af00138063afd550e5c782f36aaeba0f16d129512"
  },
  "kernelspec": {
   "display_name": "Python 3.10.2 64-bit",
   "language": "python",
   "name": "python3"
  },
  "language_info": {
   "codemirror_mode": {
    "name": "ipython",
    "version": 3
   },
   "file_extension": ".py",
   "mimetype": "text/x-python",
   "name": "python",
   "nbconvert_exporter": "python",
   "pygments_lexer": "ipython3",
   "version": "3.10.2"
  },
  "orig_nbformat": 4
 },
 "nbformat": 4,
 "nbformat_minor": 2
}
